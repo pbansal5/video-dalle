{
 "cells": [
  {
   "cell_type": "code",
   "execution_count": 13,
   "id": "8ae19570",
   "metadata": {},
   "outputs": [
    {
     "name": "stdout",
     "output_type": "stream",
     "text": [
      "Loading from checkpoint /home/t-pbansal/video-dalle/logs/2021-08-15T18:22:55.450448/checkpoint.pt.tar\n"
     ]
    }
   ],
   "source": [
    "import os\n",
    "import os.path\n",
    "import argparse\n",
    "import math\n",
    "import torch\n",
    "import torchvision.utils as vutils\n",
    "from datetime import datetime\n",
    "from einops import rearrange\n",
    "from torch.optim import Adam\n",
    "from torch.nn.utils import clip_grad_norm_\n",
    "from torch.utils.data import DataLoader\n",
    "from torch.utils.tensorboard import SummaryWriter\n",
    "from balls import Balls\n",
    "from dalle_video import DALLE\n",
    "from utils import *\n",
    "import matplotlib.pyplot as plt\n",
    "\n",
    "parser = argparse.ArgumentParser()\n",
    "\n",
    "parser.add_argument('--local_rank', type=int, default=0)\n",
    "parser.add_argument('--num_workers', type=int, default=4)\n",
    "parser.add_argument('--seed', type=int, default=0)\n",
    "parser.add_argument('--batch_size', type=int, default=8)\n",
    "parser.add_argument('--epochs', type=int, default=500)\n",
    "parser.add_argument('--clip', type=float, default=1.0)\n",
    "parser.add_argument('--image_size', type=int, default=64)\n",
    "\n",
    "parser.add_argument('--checkpoint_path', default='/home/t-pbansal/video-dalle/logs/2021-08-15T18:22:55.450448/checkpoint.pt.tar')\n",
    "parser.add_argument('--data_path', default='/home/t-pbansal/video-dalle/data/bouncing_3balls')\n",
    "\n",
    "parser.add_argument('--num_dec_blocks', type=int, default=4)\n",
    "parser.add_argument('--vocab_size', type=int, default=256)\n",
    "parser.add_argument('--d_model', type=int, default=192)\n",
    "parser.add_argument('--num_heads', type=int, default=4)\n",
    "parser.add_argument('--dropout', type=float, default=0.1)\n",
    "\n",
    "# parser.add_argument('--num_iterations', type=int, default=7)\n",
    "parser.add_argument('--num_iterations', type=int, default=5)\n",
    "parser.add_argument('--num_slots', type=int, default=4)\n",
    "# parser.add_argument('--num_slots', type=int, default=8)\n",
    "parser.add_argument('--cnn_hidden_size', type=int, default=32)\n",
    "parser.add_argument('--slot_size', type=int, default=64)\n",
    "# parser.add_argument('--slot_size', type=int, default=32)\n",
    "parser.add_argument('--mlp_hidden_size', type=int, default=128)\n",
    "parser.add_argument('--img_channels', type=int, default=3)\n",
    "parser.add_argument('--pos_channels', type=int, default=4)\n",
    "parser.add_argument('--sample_length', type=int, default=20)\n",
    "parser.add_argument('--num_gt_steps', type=int, default=10)\n",
    "parser.add_argument('--num_generation_steps', type=int, default=10)\n",
    "parser.add_argument('--num_vis', type=int, default=8)\n",
    "\n",
    "parser.add_argument('--tau_start', type=float, default=1.0)\n",
    "parser.add_argument('--tau_final', type=float, default=0.1)\n",
    "parser.add_argument('--tau_epochs', type=int, default=3)\n",
    "\n",
    "parser.add_argument('--hard', action='store_true')\n",
    "parser.add_argument('--sample_batch', action='store_true')\n",
    "\n",
    "parser.add_argument('--memory_type', type=str, choices=['slots', 'conv', 'vector'], default='slots')\n",
    "\n",
    "parser.add_argument('--fast_run', action='store_true', default=False)\n",
    "\n",
    "parser.add_argument('-f','--file')\n",
    "args = parser.parse_args()\n",
    "\n",
    "torch.manual_seed(args.seed)\n",
    "\n",
    "val_dataset = Balls(root=args.data_path, mode='val')\n",
    "\n",
    "loader_kwargs = {\n",
    "    'batch_size': args.batch_size,\n",
    "    'shuffle': False,\n",
    "    'num_workers': args.num_workers,\n",
    "    'pin_memory': True,\n",
    "    'drop_last': True,\n",
    "}\n",
    "\n",
    "val_loader = DataLoader(val_dataset,  **loader_kwargs)\n",
    "\n",
    "model = DALLE(args)\n",
    "\n",
    "print(f'Loading from checkpoint {args.checkpoint_path}')\n",
    "checkpoint = torch.load(args.checkpoint_path, map_location='cpu')\n",
    "start_epoch = checkpoint['epoch']\n",
    "best_val_loss = checkpoint['best_val_loss']\n",
    "best_epoch = checkpoint['best_epoch']\n",
    "model.load_state_dict(checkpoint['model'])\n",
    "\n",
    "model = model.cuda()\n",
    "\n",
    "def visualize(video, recon, recon_transformer=None, N=8):\n",
    "    B, T, C, H, W = video.shape\n",
    "    video = video[:N].unsqueeze(1)\n",
    "    recon = recon[:N].unsqueeze(1)\n",
    "    recon_diff = video - recon\n",
    "    vis_list = [video, recon, recon_diff]\n",
    "    if recon_transformer is not None:\n",
    "        recon_transformer = recon_transformer[:N].unsqueeze(1)\n",
    "        recon_transformer_diff = video - recon_transformer\n",
    "        vis_list.extend([recon_transformer, recon_transformer_diff])\n",
    "    vis = torch.cat(vis_list, dim=1).view(-1, C, H, W)\n",
    "    return vis\n",
    "\n",
    "def visualize_attn(video, attn, N=2):\n",
    "    # [[predicted frame, attended frame 1, slot1, slot2, etc...],\n",
    "    #  [predicted frame, attended frame 2, slot1, slot2, etc...]\n",
    "    #  ...]\n",
    "    B, T, C, H, W = video.shape\n",
    "    predicted = video[:N,:][:, :, None, ...]\n",
    "    attn = attn[:N]\n",
    "    #attn = attn * attended\n",
    "    # attn = attn * predicted + 1 - attn\n",
    "    # attn = 1-attn(1-predicted)\n",
    "    vis = torch.cat([predicted, predicted, attn], dim=-4)\n",
    "    vis = vis.view(-1, C, H, W)\n",
    "    return vis\n",
    "\n",
    "def visualize_gen(video, recon, N=8):\n",
    "    _, _, H, W = image.shape\n",
    "    image = image[:N].expand(-1, 3, H, W).unsqueeze(dim=1)\n",
    "    recon = recon[:N].expand(-1, 3, H, W).unsqueeze(dim=1)\n",
    "\n",
    "    return torch.cat((image, recon), dim=1).view(-1, 3, H, W)\n",
    "\n",
    "with torch.no_grad():\n",
    "    for val_batch, full_video in enumerate(val_loader):\n",
    "        full_video = full_video.cuda(non_blocking=True)\n",
    "        video = full_video[:, :args.sample_length]\n",
    "        break\n",
    "        recon_transformer = model.generate(video)\n",
    "        gen_vis = visualize(video[:,-recon_transformer.shape[1]:], recon_transformer, N=args.num_vis)\n",
    "        gen_vis_grid = vutils.make_grid(gen_vis, nrow=recon_transformer.shape[1], pad_value=1)\n",
    "    #     plt.imshow(gen_vis_grid)\n",
    "        break"
   ]
  },
  {
   "cell_type": "code",
   "execution_count": 40,
   "id": "04781d66",
   "metadata": {},
   "outputs": [],
   "source": [
    "seen_sofar = video[:,:3].clone()\n",
    "seen_sofar[:,:,0] += seen_sofar[:,:,1]\n",
    "seen_sofar[:,:,1] =0\n",
    "\n",
    "for _ in range(17):\n",
    "    recon_transformer = model.generate(torch.cat([seen_sofar[:,-3:],torch.zeros_like(seen_sofar[:,:1])],dim=1))\n",
    "    seen_sofar = torch.cat([seen_sofar,recon_transformer.detach().clone()],dim=1)\n",
    "# # gen_vis = visualize(video[:,:13], seen_sofar, N=args.num_vis)\n",
    "# # gen_vis_grid = vutils.make_grid(gen_vis, nrow=13, pad_value=1)\n"
   ]
  },
  {
   "cell_type": "code",
   "execution_count": 42,
   "id": "71ec13ee",
   "metadata": {
    "scrolled": false
   },
   "outputs": [
    {
     "data": {
      "image/png": "[encoded data removed]",
      "text/plain": [
       "<Figure size 432x288 with 1 Axes>"
      ]
     },
     "metadata": {
      "needs_background": "light"
     },
     "output_type": "display_data"
    },
    {
     "data": {
      "image/png": "[encoded data removed]",
      "text/plain": [
       "<Figure size 432x288 with 1 Axes>"
      ]
     },
     "metadata": {
      "needs_background": "light"
     },
     "output_type": "display_data"
    },
    {
     "data": {
      "image/png": "[encoded data removed]",
      "text/plain": [
       "<Figure size 432x288 with 1 Axes>"
      ]
     },
     "metadata": {
      "needs_background": "light"
     },
     "output_type": "display_data"
    },
    {
     "data": {
      "image/png": "[encoded data removed]",
      "text/plain": [
       "<Figure size 432x288 with 1 Axes>"
      ]
     },
     "metadata": {
      "needs_background": "light"
     },
     "output_type": "display_data"
    },
    {
     "data": {
      "image/png": "[encoded data removed]",
      "text/plain": [
       "<Figure size 432x288 with 1 Axes>"
      ]
     },
     "metadata": {
      "needs_background": "light"
     },
     "output_type": "display_data"
    },
    {
     "data": {
      "image/png": "[encoded data removed]",
      "text/plain": [
       "<Figure size 432x288 with 1 Axes>"
      ]
     },
     "metadata": {
      "needs_background": "light"
     },
     "output_type": "display_data"
    },
    {
     "data": {
      "image/png": "[encoded data removed]",
      "text/plain": [
       "<Figure size 432x288 with 1 Axes>"
      ]
     },
     "metadata": {
      "needs_background": "light"
     },
     "output_type": "display_data"
    },
    {
     "data": {
      "image/png": "[encoded data removed]",
      "text/plain": [
       "<Figure size 432x288 with 1 Axes>"
      ]
     },
     "metadata": {
      "needs_background": "light"
     },
     "output_type": "display_data"
    },
    {
     "data": {
      "image/png": "[encoded data removed]",
      "text/plain": [
       "<Figure size 432x288 with 1 Axes>"
      ]
     },
     "metadata": {
      "needs_background": "light"
     },
     "output_type": "display_data"
    },
    {
     "data": {
      "image/png": "[encoded data removed]",
      "text/plain": [
       "<Figure size 432x288 with 1 Axes>"
      ]
     },
     "metadata": {
      "needs_background": "light"
     },
     "output_type": "display_data"
    },
    {
     "data": {
      "image/png": "[encoded data removed]",
      "text/plain": [
       "<Figure size 432x288 with 1 Axes>"
      ]
     },
     "metadata": {
      "needs_background": "light"
     },
     "output_type": "display_data"
    },
    {
     "data": {
      "image/png": "[encoded data removed]",
      "text/plain": [
       "<Figure size 432x288 with 1 Axes>"
      ]
     },
     "metadata": {
      "needs_background": "light"
     },
     "output_type": "display_data"
    },
    {
     "data": {
      "image/png": "[encoded data removed]",
      "text/plain": [
       "<Figure size 432x288 with 1 Axes>"
      ]
     },
     "metadata": {
      "needs_background": "light"
     },
     "output_type": "display_data"
    },
    {
     "data": {
      "image/png": "[encoded data removed]",
      "text/plain": [
       "<Figure size 432x288 with 1 Axes>"
      ]
     },
     "metadata": {
      "needs_background": "light"
     },
     "output_type": "display_data"
    },
    {
     "data": {
      "image/png": "[encoded data removed]",
      "text/plain": [
       "<Figure size 432x288 with 1 Axes>"
      ]
     },
     "metadata": {
      "needs_background": "light"
     },
     "output_type": "display_data"
    },
    {
     "data": {
      "image/png": "[encoded data removed]",
      "text/plain": [
       "<Figure size 432x288 with 1 Axes>"
      ]
     },
     "metadata": {
      "needs_background": "light"
     },
     "output_type": "display_data"
    },
    {
     "data": {
      "image/png": "[encoded data removed]",
      "text/plain": [
       "<Figure size 432x288 with 1 Axes>"
      ]
     },
     "metadata": {
      "needs_background": "light"
     },
     "output_type": "display_data"
    },
    {
     "data": {
      "image/png": "[encoded data removed]",
      "text/plain": [
       "<Figure size 432x288 with 1 Axes>"
      ]
     },
     "metadata": {
      "needs_background": "light"
     },
     "output_type": "display_data"
    },
    {
     "data": {
      "image/png": "[encoded data removed]",
      "text/plain": [
       "<Figure size 432x288 with 1 Axes>"
      ]
     },
     "metadata": {
      "needs_background": "light"
     },
     "output_type": "display_data"
    },
    {
     "data": {
      "image/png": "[encoded data removed]",
      "text/plain": [
       "<Figure size 432x288 with 1 Axes>"
      ]
     },
     "metadata": {
      "needs_background": "light"
     },
     "output_type": "display_data"
    }
   ],
   "source": [
    "sample=0\n",
    "for i in range(20):\n",
    "    plt.imshow(seen_sofar[sample].detach().cpu().numpy().transpose(0,2,3,1)[i])\n",
    "    plt.show()"
   ]
  },
  {
   "cell_type": "code",
   "execution_count": 4,
   "id": "d636f534",
   "metadata": {},
   "outputs": [],
   "source": [
    "# seen_sofar = video[:,:3].clone()\n",
    "# for i in range(17):\n",
    "#     if (i == ):\n",
    "#     recon_transformer = model.generate(torch.cat([seen_sofar[:,-3:],torch.zeros_like(seen_sofar[:,:1])],dim=1))\n",
    "#     seen_sofar = torch.cat([seen_sofar,recon_transformer.detach().clone()],dim=1)\n",
    "\n",
    "\n"
   ]
  },
  {
   "cell_type": "code",
   "execution_count": 12,
   "id": "b67f2661",
   "metadata": {},
   "outputs": [
    {
     "name": "stderr",
     "output_type": "stream",
     "text": [
      "Lossy conversion from float32 to uint8. Range [0, 1]. Convert image to uint8 prior to saving to suppress this warning.\n",
      "Lossy conversion from float32 to uint8. Range [0, 1]. Convert image to uint8 prior to saving to suppress this warning.\n",
      "Lossy conversion from float32 to uint8. Range [0, 1]. Convert image to uint8 prior to saving to suppress this warning.\n",
      "Lossy conversion from float32 to uint8. Range [0, 1]. Convert image to uint8 prior to saving to suppress this warning.\n",
      "Lossy conversion from float32 to uint8. Range [0, 1]. Convert image to uint8 prior to saving to suppress this warning.\n",
      "Lossy conversion from float32 to uint8. Range [0, 1]. Convert image to uint8 prior to saving to suppress this warning.\n",
      "Lossy conversion from float32 to uint8. Range [0, 1]. Convert image to uint8 prior to saving to suppress this warning.\n",
      "Lossy conversion from float32 to uint8. Range [0, 1]. Convert image to uint8 prior to saving to suppress this warning.\n",
      "Lossy conversion from float32 to uint8. Range [0, 1]. Convert image to uint8 prior to saving to suppress this warning.\n",
      "Lossy conversion from float32 to uint8. Range [0, 1]. Convert image to uint8 prior to saving to suppress this warning.\n",
      "Lossy conversion from float32 to uint8. Range [0, 1]. Convert image to uint8 prior to saving to suppress this warning.\n",
      "Lossy conversion from float32 to uint8. Range [0, 1]. Convert image to uint8 prior to saving to suppress this warning.\n",
      "Lossy conversion from float32 to uint8. Range [0, 1]. Convert image to uint8 prior to saving to suppress this warning.\n",
      "Lossy conversion from float32 to uint8. Range [0, 1]. Convert image to uint8 prior to saving to suppress this warning.\n",
      "Lossy conversion from float32 to uint8. Range [0, 1]. Convert image to uint8 prior to saving to suppress this warning.\n",
      "Lossy conversion from float32 to uint8. Range [0, 1]. Convert image to uint8 prior to saving to suppress this warning.\n",
      "Lossy conversion from float32 to uint8. Range [0, 1]. Convert image to uint8 prior to saving to suppress this warning.\n",
      "Lossy conversion from float32 to uint8. Range [0, 1]. Convert image to uint8 prior to saving to suppress this warning.\n",
      "Lossy conversion from float32 to uint8. Range [0, 1]. Convert image to uint8 prior to saving to suppress this warning.\n",
      "Lossy conversion from float32 to uint8. Range [0, 1]. Convert image to uint8 prior to saving to suppress this warning.\n",
      "Lossy conversion from float32 to uint8. Range [0, 1]. Convert image to uint8 prior to saving to suppress this warning.\n",
      "Lossy conversion from float32 to uint8. Range [0, 1]. Convert image to uint8 prior to saving to suppress this warning.\n",
      "Lossy conversion from float32 to uint8. Range [0, 1]. Convert image to uint8 prior to saving to suppress this warning.\n",
      "Lossy conversion from float32 to uint8. Range [0, 1]. Convert image to uint8 prior to saving to suppress this warning.\n",
      "Lossy conversion from float32 to uint8. Range [0, 1]. Convert image to uint8 prior to saving to suppress this warning.\n",
      "Lossy conversion from float32 to uint8. Range [0, 1]. Convert image to uint8 prior to saving to suppress this warning.\n",
      "Lossy conversion from float32 to uint8. Range [0, 1]. Convert image to uint8 prior to saving to suppress this warning.\n",
      "Lossy conversion from float32 to uint8. Range [0, 1]. Convert image to uint8 prior to saving to suppress this warning.\n",
      "Lossy conversion from float32 to uint8. Range [0, 1]. Convert image to uint8 prior to saving to suppress this warning.\n",
      "Lossy conversion from float32 to uint8. Range [0, 1]. Convert image to uint8 prior to saving to suppress this warning.\n",
      "Lossy conversion from float32 to uint8. Range [0, 1]. Convert image to uint8 prior to saving to suppress this warning.\n",
      "Lossy conversion from float32 to uint8. Range [0, 1]. Convert image to uint8 prior to saving to suppress this warning.\n",
      "Lossy conversion from float32 to uint8. Range [0, 1]. Convert image to uint8 prior to saving to suppress this warning.\n",
      "Lossy conversion from float32 to uint8. Range [0, 1]. Convert image to uint8 prior to saving to suppress this warning.\n",
      "Lossy conversion from float32 to uint8. Range [0, 1]. Convert image to uint8 prior to saving to suppress this warning.\n",
      "Lossy conversion from float32 to uint8. Range [0, 1]. Convert image to uint8 prior to saving to suppress this warning.\n",
      "Lossy conversion from float32 to uint8. Range [0, 1]. Convert image to uint8 prior to saving to suppress this warning.\n"
     ]
    }
   ],
   "source": [
    "\n",
    "import os\n",
    "import imageio\n",
    "\n",
    "# images = []\n",
    "# images.append()\n",
    "sample=5\n",
    "imageio.mimsave('generated_experiment.gif', recon_transformer[sample].detach().cpu().numpy().transpose(0,2,3,1))\n",
    "imageio.mimsave('original_experiment.gif', seen_sofar[sample].detach().cpu().numpy().transpose(0,2,3,1))"
   ]
  },
  {
   "cell_type": "code",
   "execution_count": 8,
   "id": "f6620ee4",
   "metadata": {},
   "outputs": [
    {
     "name": "stdout",
     "output_type": "stream",
     "text": [
      "torch.Size([8, 20, 3, 64, 64]) torch.Size([8, 20, 3, 64, 64])\n"
     ]
    }
   ],
   "source": [
    "print (video.shape,seen_sofar.shape)"
   ]
  },
  {
   "cell_type": "code",
   "execution_count": 41,
   "id": "42e4fad6",
   "metadata": {
    "scrolled": true
   },
   "outputs": [
    {
     "name": "stderr",
     "output_type": "stream",
     "text": [
      "Lossy conversion from float32 to uint8. Range [0, 1]. Convert image to uint8 prior to saving to suppress this warning.\n",
      "Lossy conversion from float32 to uint8. Range [0, 1]. Convert image to uint8 prior to saving to suppress this warning.\n",
      "Lossy conversion from float32 to uint8. Range [0, 1]. Convert image to uint8 prior to saving to suppress this warning.\n",
      "Lossy conversion from float32 to uint8. Range [0, 1]. Convert image to uint8 prior to saving to suppress this warning.\n",
      "Lossy conversion from float32 to uint8. Range [0, 1]. Convert image to uint8 prior to saving to suppress this warning.\n",
      "Lossy conversion from float32 to uint8. Range [0, 1]. Convert image to uint8 prior to saving to suppress this warning.\n",
      "Lossy conversion from float32 to uint8. Range [0, 1]. Convert image to uint8 prior to saving to suppress this warning.\n",
      "Lossy conversion from float32 to uint8. Range [0, 1]. Convert image to uint8 prior to saving to suppress this warning.\n",
      "Lossy conversion from float32 to uint8. Range [0, 1]. Convert image to uint8 prior to saving to suppress this warning.\n",
      "Lossy conversion from float32 to uint8. Range [0, 1]. Convert image to uint8 prior to saving to suppress this warning.\n",
      "Lossy conversion from float32 to uint8. Range [0, 1]. Convert image to uint8 prior to saving to suppress this warning.\n",
      "Lossy conversion from float32 to uint8. Range [0, 1]. Convert image to uint8 prior to saving to suppress this warning.\n",
      "Lossy conversion from float32 to uint8. Range [0, 1]. Convert image to uint8 prior to saving to suppress this warning.\n",
      "Lossy conversion from float32 to uint8. Range [0, 1]. Convert image to uint8 prior to saving to suppress this warning.\n",
      "Lossy conversion from float32 to uint8. Range [0, 1]. Convert image to uint8 prior to saving to suppress this warning.\n",
      "Lossy conversion from float32 to uint8. Range [0, 1]. Convert image to uint8 prior to saving to suppress this warning.\n",
      "Lossy conversion from float32 to uint8. Range [0, 1]. Convert image to uint8 prior to saving to suppress this warning.\n",
      "Lossy conversion from float32 to uint8. Range [0, 1]. Convert image to uint8 prior to saving to suppress this warning.\n",
      "Lossy conversion from float32 to uint8. Range [0, 1]. Convert image to uint8 prior to saving to suppress this warning.\n",
      "Lossy conversion from float32 to uint8. Range [0, 1]. Convert image to uint8 prior to saving to suppress this warning.\n",
      "Lossy conversion from float32 to uint8. Range [0, 1]. Convert image to uint8 prior to saving to suppress this warning.\n",
      "Lossy conversion from float32 to uint8. Range [0, 1]. Convert image to uint8 prior to saving to suppress this warning.\n",
      "Lossy conversion from float32 to uint8. Range [0, 1]. Convert image to uint8 prior to saving to suppress this warning.\n",
      "Lossy conversion from float32 to uint8. Range [0, 1]. Convert image to uint8 prior to saving to suppress this warning.\n",
      "Lossy conversion from float32 to uint8. Range [0, 1]. Convert image to uint8 prior to saving to suppress this warning.\n",
      "Lossy conversion from float32 to uint8. Range [0, 1]. Convert image to uint8 prior to saving to suppress this warning.\n",
      "Lossy conversion from float32 to uint8. Range [0, 1]. Convert image to uint8 prior to saving to suppress this warning.\n",
      "Lossy conversion from float32 to uint8. Range [0, 1]. Convert image to uint8 prior to saving to suppress this warning.\n",
      "Lossy conversion from float32 to uint8. Range [0, 1]. Convert image to uint8 prior to saving to suppress this warning.\n",
      "Lossy conversion from float32 to uint8. Range [0, 1]. Convert image to uint8 prior to saving to suppress this warning.\n",
      "Lossy conversion from float32 to uint8. Range [0, 1]. Convert image to uint8 prior to saving to suppress this warning.\n",
      "Lossy conversion from float32 to uint8. Range [0, 1]. Convert image to uint8 prior to saving to suppress this warning.\n",
      "Lossy conversion from float32 to uint8. Range [0, 1]. Convert image to uint8 prior to saving to suppress this warning.\n",
      "Lossy conversion from float32 to uint8. Range [0, 1]. Convert image to uint8 prior to saving to suppress this warning.\n",
      "Lossy conversion from float32 to uint8. Range [0, 1]. Convert image to uint8 prior to saving to suppress this warning.\n",
      "Lossy conversion from float32 to uint8. Range [0, 1]. Convert image to uint8 prior to saving to suppress this warning.\n",
      "Lossy conversion from float32 to uint8. Range [0, 1]. Convert image to uint8 prior to saving to suppress this warning.\n",
      "Lossy conversion from float32 to uint8. Range [0, 1]. Convert image to uint8 prior to saving to suppress this warning.\n",
      "Lossy conversion from float32 to uint8. Range [0, 1]. Convert image to uint8 prior to saving to suppress this warning.\n",
      "Lossy conversion from float32 to uint8. Range [0, 1]. Convert image to uint8 prior to saving to suppress this warning.\n"
     ]
    }
   ],
   "source": [
    "# from array2gif import write_gif\n",
    "# write_gif(seen_sofar[sample].detach().cpu().numpy().transpose(0,2,3,1), 'generated.gif', fps=4)\n",
    "\n",
    "import os\n",
    "import imageio\n",
    "\n",
    "# images = []\n",
    "# images.append()\n",
    "sample=0\n",
    "imageio.mimsave('generated_latest12.gif', seen_sofar[sample].detach().cpu().numpy().transpose(0,2,3,1))\n",
    "imageio.mimsave('original_latest12.gif', video[sample].detach().cpu().numpy().transpose(0,2,3,1))"
   ]
  },
  {
   "cell_type": "code",
   "execution_count": 49,
   "id": "b9e71559",
   "metadata": {
    "scrolled": false
   },
   "outputs": [
    {
     "name": "stdout",
     "output_type": "stream",
     "text": [
      "Time Step : 0\n",
      "torch.Size([13, 3, 64, 64]) torch.Size([13, 3, 64, 64])\n"
     ]
    },
    {
     "data": {
      "image/svg+xml": [
       "<?xml version=\"1.0\" encoding=\"utf-8\" standalone=\"no\"?>\n",
       "<!DOCTYPE svg PUBLIC \"-//W3C//DTD SVG 1.1//EN\"\n",
       "  \"http://www.w3.org/Graphics/SVG/1.1/DTD/svg11.dtd\">\n",
       "<!-- Created with matplotlib (https://matplotlib.org/) -->\n",
       "<svg height=\"250.618594pt\" version=\"1.1\" viewBox=\"0 0 251.565 250.618594\" width=\"251.565pt\" xmlns=\"http://www.w3.org/2000/svg\" xmlns:xlink=\"http://www.w3.org/1999/xlink\">\n",
       " <metadata>\n",
       "  <rdf:RDF xmlns:cc=\"http://creativecommons.org/ns#\" xmlns:dc=\"http://purl.org/dc/elements/1.1/\" xmlns:rdf=\"http://www.w3.org/1999/02/22-rdf-syntax-ns#\">\n",
       "   <cc:Work>\n",
       "    <dc:type rdf:resource=\"http://purl.org/dc/dcmitype/StillImage\"/>\n",
       "    <dc:date>2021-08-15T03:10:25.993448</dc:date>\n",
       "    <dc:format>image/svg+xml</dc:format>\n",
       "    <dc:creator>\n",
       "     <cc:Agent>\n",
       "      <dc:title>Matplotlib v3.3.4, https://matplotlib.org/</dc:title>\n",
       "     </cc:Agent>\n",
       "    </dc:creator>\n",
       "   </cc:Work>\n",
       "  </rdf:RDF>\n",
       " </metadata>\n",
       " <defs>\n",
       "  <style type=\"text/css\">*{stroke-linecap:butt;stroke-linejoin:round;}</style>\n",
       " </defs>\n",
       " <g id=\"figure_1\">\n",
       "  <g id=\"patch_1\">\n",
       "   <path d=\"M 0 250.618594 \n",
       "L 251.565 250.618594 \n",
       "L 251.565 0 \n",
       "L 0 0 \n",
       "z\n",
       "\" style=\"fill:none;\"/>\n",
       "  </g>\n",
       "  <g id=\"axes_1\">\n",
       "   <g id=\"patch_2\">\n",
       "    <path d=\"M 26.925 226.740469 \n",
       "L 244.365 226.740469 \n",
       "L 244.365 9.300469 \n",
       "L 26.925 9.300469 \n",
       "z\n",
       "\" style=\"fill:#ffffff;\"/>\n",
       "   </g>\n",
       "   <g clip-path=\"url(#p5e7850196c)\">\n",
       "    <image height=\"218\" id=\"image5027dbd3e0\" transform=\"scale(1 -1)translate(0 -218)\" width=\"218\" x=\"26.925\" xlink:href=\"data:image/png;base64,\n",
       "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\" y=\"-8.740469\"/>\n",
       "   </g>\n",
       "   <g id=\"matplotlib.axis_1\">\n",
       "    <g id=\"xtick_1\">\n",
       "     <g id=\"line2d_1\">\n",
       "      <defs>\n",
       "       <path d=\"M 0 0 \n",
       "L 0 3.5 \n",
       "\" id=\"md04641dce3\" style=\"stroke:#000000;stroke-width:0.8;\"/>\n",
       "      </defs>\n",
       "      <g>\n",
       "       <use style=\"stroke:#000000;stroke-width:0.8;\" x=\"28.62375\" xlink:href=\"#md04641dce3\" y=\"226.740469\"/>\n",
       "      </g>\n",
       "     </g>\n",
       "     <g id=\"text_1\">\n",
       "      <!-- 0 -->\n",
       "      <g transform=\"translate(25.4425 241.338906)scale(0.1 -0.1)\">\n",
       "       <defs>\n",
       "        <path d=\"M 31.78125 66.40625 \n",
       "Q 24.171875 66.40625 20.328125 58.90625 \n",
       "Q 16.5 51.421875 16.5 36.375 \n",
       "Q 16.5 21.390625 20.328125 13.890625 \n",
       "Q 24.171875 6.390625 31.78125 6.390625 \n",
       "Q 39.453125 6.390625 43.28125 13.890625 \n",
       "Q 47.125 21.390625 47.125 36.375 \n",
       "Q 47.125 51.421875 43.28125 58.90625 \n",
       "Q 39.453125 66.40625 31.78125 66.40625 \n",
       "z\n",
       "M 31.78125 74.21875 \n",
       "Q 44.046875 74.21875 50.515625 64.515625 \n",
       "Q 56.984375 54.828125 56.984375 36.375 \n",
       "Q 56.984375 17.96875 50.515625 8.265625 \n",
       "Q 44.046875 -1.421875 31.78125 -1.421875 \n",
       "Q 19.53125 -1.421875 13.0625 8.265625 \n",
       "Q 6.59375 17.96875 6.59375 36.375 \n",
       "Q 6.59375 54.828125 13.0625 64.515625 \n",
       "Q 19.53125 74.21875 31.78125 74.21875 \n",
       "z\n",
       "\" id=\"DejaVuSans-48\"/>\n",
       "       </defs>\n",
       "       <use xlink:href=\"#DejaVuSans-48\"/>\n",
       "      </g>\n",
       "     </g>\n",
       "    </g>\n",
       "    <g id=\"xtick_2\">\n",
       "     <g id=\"line2d_2\">\n",
       "      <g>\n",
       "       <use style=\"stroke:#000000;stroke-width:0.8;\" x=\"62.59875\" xlink:href=\"#md04641dce3\" y=\"226.740469\"/>\n",
       "      </g>\n",
       "     </g>\n",
       "     <g id=\"text_2\">\n",
       "      <!-- 10 -->\n",
       "      <g transform=\"translate(56.23625 241.338906)scale(0.1 -0.1)\">\n",
       "       <defs>\n",
       "        <path d=\"M 12.40625 8.296875 \n",
       "L 28.515625 8.296875 \n",
       "L 28.515625 63.921875 \n",
       "L 10.984375 60.40625 \n",
       "L 10.984375 69.390625 \n",
       "L 28.421875 72.90625 \n",
       "L 38.28125 72.90625 \n",
       "L 38.28125 8.296875 \n",
       "L 54.390625 8.296875 \n",
       "L 54.390625 0 \n",
       "L 12.40625 0 \n",
       "z\n",
       "\" id=\"DejaVuSans-49\"/>\n",
       "       </defs>\n",
       "       <use xlink:href=\"#DejaVuSans-49\"/>\n",
       "       <use x=\"63.623047\" xlink:href=\"#DejaVuSans-48\"/>\n",
       "      </g>\n",
       "     </g>\n",
       "    </g>\n",
       "    <g id=\"xtick_3\">\n",
       "     <g id=\"line2d_3\">\n",
       "      <g>\n",
       "       <use style=\"stroke:#000000;stroke-width:0.8;\" x=\"96.57375\" xlink:href=\"#md04641dce3\" y=\"226.740469\"/>\n",
       "      </g>\n",
       "     </g>\n",
       "     <g id=\"text_3\">\n",
       "      <!-- 20 -->\n",
       "      <g transform=\"translate(90.21125 241.338906)scale(0.1 -0.1)\">\n",
       "       <defs>\n",
       "        <path d=\"M 19.1875 8.296875 \n",
       "L 53.609375 8.296875 \n",
       "L 53.609375 0 \n",
       "L 7.328125 0 \n",
       "L 7.328125 8.296875 \n",
       "Q 12.9375 14.109375 22.625 23.890625 \n",
       "Q 32.328125 33.6875 34.8125 36.53125 \n",
       "Q 39.546875 41.84375 41.421875 45.53125 \n",
       "Q 43.3125 49.21875 43.3125 52.78125 \n",
       "Q 43.3125 58.59375 39.234375 62.25 \n",
       "Q 35.15625 65.921875 28.609375 65.921875 \n",
       "Q 23.96875 65.921875 18.8125 64.3125 \n",
       "Q 13.671875 62.703125 7.8125 59.421875 \n",
       "L 7.8125 69.390625 \n",
       "Q 13.765625 71.78125 18.9375 73 \n",
       "Q 24.125 74.21875 28.421875 74.21875 \n",
       "Q 39.75 74.21875 46.484375 68.546875 \n",
       "Q 53.21875 62.890625 53.21875 53.421875 \n",
       "Q 53.21875 48.921875 51.53125 44.890625 \n",
       "Q 49.859375 40.875 45.40625 35.40625 \n",
       "Q 44.1875 33.984375 37.640625 27.21875 \n",
       "Q 31.109375 20.453125 19.1875 8.296875 \n",
       "z\n",
       "\" id=\"DejaVuSans-50\"/>\n",
       "       </defs>\n",
       "       <use xlink:href=\"#DejaVuSans-50\"/>\n",
       "       <use x=\"63.623047\" xlink:href=\"#DejaVuSans-48\"/>\n",
       "      </g>\n",
       "     </g>\n",
       "    </g>\n",
       "    <g id=\"xtick_4\">\n",
       "     <g id=\"line2d_4\">\n",
       "      <g>\n",
       "       <use style=\"stroke:#000000;stroke-width:0.8;\" x=\"130.54875\" xlink:href=\"#md04641dce3\" y=\"226.740469\"/>\n",
       "      </g>\n",
       "     </g>\n",
       "     <g id=\"text_4\">\n",
       "      <!-- 30 -->\n",
       "      <g transform=\"translate(124.18625 241.338906)scale(0.1 -0.1)\">\n",
       "       <defs>\n",
       "        <path d=\"M 40.578125 39.3125 \n",
       "Q 47.65625 37.796875 51.625 33 \n",
       "Q 55.609375 28.21875 55.609375 21.1875 \n",
       "Q 55.609375 10.40625 48.1875 4.484375 \n",
       "Q 40.765625 -1.421875 27.09375 -1.421875 \n",
       "Q 22.515625 -1.421875 17.65625 -0.515625 \n",
       "Q 12.796875 0.390625 7.625 2.203125 \n",
       "L 7.625 11.71875 \n",
       "Q 11.71875 9.328125 16.59375 8.109375 \n",
       "Q 21.484375 6.890625 26.8125 6.890625 \n",
       "Q 36.078125 6.890625 40.9375 10.546875 \n",
       "Q 45.796875 14.203125 45.796875 21.1875 \n",
       "Q 45.796875 27.640625 41.28125 31.265625 \n",
       "Q 36.765625 34.90625 28.71875 34.90625 \n",
       "L 20.21875 34.90625 \n",
       "L 20.21875 43.015625 \n",
       "L 29.109375 43.015625 \n",
       "Q 36.375 43.015625 40.234375 45.921875 \n",
       "Q 44.09375 48.828125 44.09375 54.296875 \n",
       "Q 44.09375 59.90625 40.109375 62.90625 \n",
       "Q 36.140625 65.921875 28.71875 65.921875 \n",
       "Q 24.65625 65.921875 20.015625 65.03125 \n",
       "Q 15.375 64.15625 9.8125 62.3125 \n",
       "L 9.8125 71.09375 \n",
       "Q 15.4375 72.65625 20.34375 73.4375 \n",
       "Q 25.25 74.21875 29.59375 74.21875 \n",
       "Q 40.828125 74.21875 47.359375 69.109375 \n",
       "Q 53.90625 64.015625 53.90625 55.328125 \n",
       "Q 53.90625 49.265625 50.4375 45.09375 \n",
       "Q 46.96875 40.921875 40.578125 39.3125 \n",
       "z\n",
       "\" id=\"DejaVuSans-51\"/>\n",
       "       </defs>\n",
       "       <use xlink:href=\"#DejaVuSans-51\"/>\n",
       "       <use x=\"63.623047\" xlink:href=\"#DejaVuSans-48\"/>\n",
       "      </g>\n",
       "     </g>\n",
       "    </g>\n",
       "    <g id=\"xtick_5\">\n",
       "     <g id=\"line2d_5\">\n",
       "      <g>\n",
       "       <use style=\"stroke:#000000;stroke-width:0.8;\" x=\"164.52375\" xlink:href=\"#md04641dce3\" y=\"226.740469\"/>\n",
       "      </g>\n",
       "     </g>\n",
       "     <g id=\"text_5\">\n",
       "      <!-- 40 -->\n",
       "      <g transform=\"translate(158.16125 241.338906)scale(0.1 -0.1)\">\n",
       "       <defs>\n",
       "        <path d=\"M 37.796875 64.3125 \n",
       "L 12.890625 25.390625 \n",
       "L 37.796875 25.390625 \n",
       "z\n",
       "M 35.203125 72.90625 \n",
       "L 47.609375 72.90625 \n",
       "L 47.609375 25.390625 \n",
       "L 58.015625 25.390625 \n",
       "L 58.015625 17.1875 \n",
       "L 47.609375 17.1875 \n",
       "L 47.609375 0 \n",
       "L 37.796875 0 \n",
       "L 37.796875 17.1875 \n",
       "L 4.890625 17.1875 \n",
       "L 4.890625 26.703125 \n",
       "z\n",
       "\" id=\"DejaVuSans-52\"/>\n",
       "       </defs>\n",
       "       <use xlink:href=\"#DejaVuSans-52\"/>\n",
       "       <use x=\"63.623047\" xlink:href=\"#DejaVuSans-48\"/>\n",
       "      </g>\n",
       "     </g>\n",
       "    </g>\n",
       "    <g id=\"xtick_6\">\n",
       "     <g id=\"line2d_6\">\n",
       "      <g>\n",
       "       <use style=\"stroke:#000000;stroke-width:0.8;\" x=\"198.49875\" xlink:href=\"#md04641dce3\" y=\"226.740469\"/>\n",
       "      </g>\n",
       "     </g>\n",
       "     <g id=\"text_6\">\n",
       "      <!-- 50 -->\n",
       "      <g transform=\"translate(192.13625 241.338906)scale(0.1 -0.1)\">\n",
       "       <defs>\n",
       "        <path d=\"M 10.796875 72.90625 \n",
       "L 49.515625 72.90625 \n",
       "L 49.515625 64.59375 \n",
       "L 19.828125 64.59375 \n",
       "L 19.828125 46.734375 \n",
       "Q 21.96875 47.46875 24.109375 47.828125 \n",
       "Q 26.265625 48.1875 28.421875 48.1875 \n",
       "Q 40.625 48.1875 47.75 41.5 \n",
       "Q 54.890625 34.8125 54.890625 23.390625 \n",
       "Q 54.890625 11.625 47.5625 5.09375 \n",
       "Q 40.234375 -1.421875 26.90625 -1.421875 \n",
       "Q 22.3125 -1.421875 17.546875 -0.640625 \n",
       "Q 12.796875 0.140625 7.71875 1.703125 \n",
       "L 7.71875 11.625 \n",
       "Q 12.109375 9.234375 16.796875 8.0625 \n",
       "Q 21.484375 6.890625 26.703125 6.890625 \n",
       "Q 35.15625 6.890625 40.078125 11.328125 \n",
       "Q 45.015625 15.765625 45.015625 23.390625 \n",
       "Q 45.015625 31 40.078125 35.4375 \n",
       "Q 35.15625 39.890625 26.703125 39.890625 \n",
       "Q 22.75 39.890625 18.8125 39.015625 \n",
       "Q 14.890625 38.140625 10.796875 36.28125 \n",
       "z\n",
       "\" id=\"DejaVuSans-53\"/>\n",
       "       </defs>\n",
       "       <use xlink:href=\"#DejaVuSans-53\"/>\n",
       "       <use x=\"63.623047\" xlink:href=\"#DejaVuSans-48\"/>\n",
       "      </g>\n",
       "     </g>\n",
       "    </g>\n",
       "    <g id=\"xtick_7\">\n",
       "     <g id=\"line2d_7\">\n",
       "      <g>\n",
       "       <use style=\"stroke:#000000;stroke-width:0.8;\" x=\"232.47375\" xlink:href=\"#md04641dce3\" y=\"226.740469\"/>\n",
       "      </g>\n",
       "     </g>\n",
       "     <g id=\"text_7\">\n",
       "      <!-- 60 -->\n",
       "      <g transform=\"translate(226.11125 241.338906)scale(0.1 -0.1)\">\n",
       "       <defs>\n",
       "        <path d=\"M 33.015625 40.375 \n",
       "Q 26.375 40.375 22.484375 35.828125 \n",
       "Q 18.609375 31.296875 18.609375 23.390625 \n",
       "Q 18.609375 15.53125 22.484375 10.953125 \n",
       "Q 26.375 6.390625 33.015625 6.390625 \n",
       "Q 39.65625 6.390625 43.53125 10.953125 \n",
       "Q 47.40625 15.53125 47.40625 23.390625 \n",
       "Q 47.40625 31.296875 43.53125 35.828125 \n",
       "Q 39.65625 40.375 33.015625 40.375 \n",
       "z\n",
       "M 52.59375 71.296875 \n",
       "L 52.59375 62.3125 \n",
       "Q 48.875 64.0625 45.09375 64.984375 \n",
       "Q 41.3125 65.921875 37.59375 65.921875 \n",
       "Q 27.828125 65.921875 22.671875 59.328125 \n",
       "Q 17.53125 52.734375 16.796875 39.40625 \n",
       "Q 19.671875 43.65625 24.015625 45.921875 \n",
       "Q 28.375 48.1875 33.59375 48.1875 \n",
       "Q 44.578125 48.1875 50.953125 41.515625 \n",
       "Q 57.328125 34.859375 57.328125 23.390625 \n",
       "Q 57.328125 12.15625 50.6875 5.359375 \n",
       "Q 44.046875 -1.421875 33.015625 -1.421875 \n",
       "Q 20.359375 -1.421875 13.671875 8.265625 \n",
       "Q 6.984375 17.96875 6.984375 36.375 \n",
       "Q 6.984375 53.65625 15.1875 63.9375 \n",
       "Q 23.390625 74.21875 37.203125 74.21875 \n",
       "Q 40.921875 74.21875 44.703125 73.484375 \n",
       "Q 48.484375 72.75 52.59375 71.296875 \n",
       "z\n",
       "\" id=\"DejaVuSans-54\"/>\n",
       "       </defs>\n",
       "       <use xlink:href=\"#DejaVuSans-54\"/>\n",
       "       <use x=\"63.623047\" xlink:href=\"#DejaVuSans-48\"/>\n",
       "      </g>\n",
       "     </g>\n",
       "    </g>\n",
       "   </g>\n",
       "   <g id=\"matplotlib.axis_2\">\n",
       "    <g id=\"ytick_1\">\n",
       "     <g id=\"line2d_8\">\n",
       "      <defs>\n",
       "       <path d=\"M 0 0 \n",
       "L -3.5 0 \n",
       "\" id=\"m05de32d961\" style=\"stroke:#000000;stroke-width:0.8;\"/>\n",
       "      </defs>\n",
       "      <g>\n",
       "       <use style=\"stroke:#000000;stroke-width:0.8;\" x=\"26.925\" xlink:href=\"#m05de32d961\" y=\"10.999219\"/>\n",
       "      </g>\n",
       "     </g>\n",
       "     <g id=\"text_8\">\n",
       "      <!-- 0 -->\n",
       "      <g transform=\"translate(13.5625 14.798437)scale(0.1 -0.1)\">\n",
       "       <use xlink:href=\"#DejaVuSans-48\"/>\n",
       "      </g>\n",
       "     </g>\n",
       "    </g>\n",
       "    <g id=\"ytick_2\">\n",
       "     <g id=\"line2d_9\">\n",
       "      <g>\n",
       "       <use style=\"stroke:#000000;stroke-width:0.8;\" x=\"26.925\" xlink:href=\"#m05de32d961\" y=\"44.974219\"/>\n",
       "      </g>\n",
       "     </g>\n",
       "     <g id=\"text_9\">\n",
       "      <!-- 10 -->\n",
       "      <g transform=\"translate(7.2 48.773437)scale(0.1 -0.1)\">\n",
       "       <use xlink:href=\"#DejaVuSans-49\"/>\n",
       "       <use x=\"63.623047\" xlink:href=\"#DejaVuSans-48\"/>\n",
       "      </g>\n",
       "     </g>\n",
       "    </g>\n",
       "    <g id=\"ytick_3\">\n",
       "     <g id=\"line2d_10\">\n",
       "      <g>\n",
       "       <use style=\"stroke:#000000;stroke-width:0.8;\" x=\"26.925\" xlink:href=\"#m05de32d961\" y=\"78.949219\"/>\n",
       "      </g>\n",
       "     </g>\n",
       "     <g id=\"text_10\">\n",
       "      <!-- 20 -->\n",
       "      <g transform=\"translate(7.2 82.748437)scale(0.1 -0.1)\">\n",
       "       <use xlink:href=\"#DejaVuSans-50\"/>\n",
       "       <use x=\"63.623047\" xlink:href=\"#DejaVuSans-48\"/>\n",
       "      </g>\n",
       "     </g>\n",
       "    </g>\n",
       "    <g id=\"ytick_4\">\n",
       "     <g id=\"line2d_11\">\n",
       "      <g>\n",
       "       <use style=\"stroke:#000000;stroke-width:0.8;\" x=\"26.925\" xlink:href=\"#m05de32d961\" y=\"112.924219\"/>\n",
       "      </g>\n",
       "     </g>\n",
       "     <g id=\"text_11\">\n",
       "      <!-- 30 -->\n",
       "      <g transform=\"translate(7.2 116.723437)scale(0.1 -0.1)\">\n",
       "       <use xlink:href=\"#DejaVuSans-51\"/>\n",
       "       <use x=\"63.623047\" xlink:href=\"#DejaVuSans-48\"/>\n",
       "      </g>\n",
       "     </g>\n",
       "    </g>\n",
       "    <g id=\"ytick_5\">\n",
       "     <g id=\"line2d_12\">\n",
       "      <g>\n",
       "       <use style=\"stroke:#000000;stroke-width:0.8;\" x=\"26.925\" xlink:href=\"#m05de32d961\" y=\"146.899219\"/>\n",
       "      </g>\n",
       "     </g>\n",
       "     <g id=\"text_12\">\n",
       "      <!-- 40 -->\n",
       "      <g transform=\"translate(7.2 150.698437)scale(0.1 -0.1)\">\n",
       "       <use xlink:href=\"#DejaVuSans-52\"/>\n",
       "       <use x=\"63.623047\" xlink:href=\"#DejaVuSans-48\"/>\n",
       "      </g>\n",
       "     </g>\n",
       "    </g>\n",
       "    <g id=\"ytick_6\">\n",
       "     <g id=\"line2d_13\">\n",
       "      <g>\n",
       "       <use style=\"stroke:#000000;stroke-width:0.8;\" x=\"26.925\" xlink:href=\"#m05de32d961\" y=\"180.874219\"/>\n",
       "      </g>\n",
       "     </g>\n",
       "     <g id=\"text_13\">\n",
       "      <!-- 50 -->\n",
       "      <g transform=\"translate(7.2 184.673437)scale(0.1 -0.1)\">\n",
       "       <use xlink:href=\"#DejaVuSans-53\"/>\n",
       "       <use x=\"63.623047\" xlink:href=\"#DejaVuSans-48\"/>\n",
       "      </g>\n",
       "     </g>\n",
       "    </g>\n",
       "    <g id=\"ytick_7\">\n",
       "     <g id=\"line2d_14\">\n",
       "      <g>\n",
       "       <use style=\"stroke:#000000;stroke-width:0.8;\" x=\"26.925\" xlink:href=\"#m05de32d961\" y=\"214.849219\"/>\n",
       "      </g>\n",
       "     </g>\n",
       "     <g id=\"text_14\">\n",
       "      <!-- 60 -->\n",
       "      <g transform=\"translate(7.2 218.648437)scale(0.1 -0.1)\">\n",
       "       <use xlink:href=\"#DejaVuSans-54\"/>\n",
       "       <use x=\"63.623047\" xlink:href=\"#DejaVuSans-48\"/>\n",
       "      </g>\n",
       "     </g>\n",
       "    </g>\n",
       "   </g>\n",
       "   <g id=\"patch_3\">\n",
       "    <path d=\"M 26.925 226.740469 \n",
       "L 26.925 9.300469 \n",
       "\" style=\"fill:none;stroke:#000000;stroke-linecap:square;stroke-linejoin:miter;stroke-width:0.8;\"/>\n",
       "   </g>\n",
       "   <g id=\"patch_4\">\n",
       "    <path d=\"M 244.365 226.740469 \n",
       "L 244.365 9.300469 \n",
       "\" style=\"fill:none;stroke:#000000;stroke-linecap:square;stroke-linejoin:miter;stroke-width:0.8;\"/>\n",
       "   </g>\n",
       "   <g id=\"patch_5\">\n",
       "    <path d=\"M 26.925 226.740469 \n",
       "L 244.365 226.740469 \n",
       "\" style=\"fill:none;stroke:#000000;stroke-linecap:square;stroke-linejoin:miter;stroke-width:0.8;\"/>\n",
       "   </g>\n",
       "   <g id=\"patch_6\">\n",
       "    <path d=\"M 26.925 9.300469 \n",
       "L 244.365 9.300469 \n",
       "\" style=\"fill:none;stroke:#000000;stroke-linecap:square;stroke-linejoin:miter;stroke-width:0.8;\"/>\n",
       "   </g>\n",
       "  </g>\n",
       " </g>\n",
       " <defs>\n",
       "  <clipPath id=\"p5e7850196c\">\n",
       "   <rect height=\"217.44\" width=\"217.44\" x=\"26.925\" y=\"9.300469\"/>\n",
       "  </clipPath>\n",
       " </defs>\n",
       "</svg>\n"
      ],
      "text/plain": [
       "<Figure size 432x288 with 1 Axes>"
      ]
     },
     "metadata": {
      "needs_background": "light"
     },
     "output_type": "display_data"
    },
    {
     "data": {
      "image/svg+xml": [
       "<?xml version=\"1.0\" encoding=\"utf-8\" standalone=\"no\"?>\n",
       "<!DOCTYPE svg PUBLIC \"-//W3C//DTD SVG 1.1//EN\"\n",
       "  \"http://www.w3.org/Graphics/SVG/1.1/DTD/svg11.dtd\">\n",
       "<!-- Created with matplotlib (https://matplotlib.org/) -->\n",
       "<svg height=\"250.618594pt\" version=\"1.1\" viewBox=\"0 0 251.565 250.618594\" width=\"251.565pt\" xmlns=\"http://www.w3.org/2000/svg\" xmlns:xlink=\"http://www.w3.org/1999/xlink\">\n",
       " <metadata>\n",
       "  <rdf:RDF xmlns:cc=\"http://creativecommons.org/ns#\" xmlns:dc=\"http://purl.org/dc/elements/1.1/\" xmlns:rdf=\"http://www.w3.org/1999/02/22-rdf-syntax-ns#\">\n",
       "   <cc:Work>\n",
       "    <dc:type rdf:resource=\"http://purl.org/dc/dcmitype/StillImage\"/>\n",
       "    <dc:date>2021-08-15T03:10:26.120178</dc:date>\n",
       "    <dc:format>image/svg+xml</dc:format>\n",
       "    <dc:creator>\n",
       "     <cc:Agent>\n",
       "      <dc:title>Matplotlib v3.3.4, https://matplotlib.org/</dc:title>\n",
       "     </cc:Agent>\n",
       "    </dc:creator>\n",
       "   </cc:Work>\n",
       "  </rdf:RDF>\n",
       " </metadata>\n",
       " <defs>\n",
       "  <style type=\"text/css\">*{stroke-linecap:butt;stroke-linejoin:round;}</style>\n",
       " </defs>\n",
       " <g id=\"figure_1\">\n",
       "  <g id=\"patch_1\">\n",
       "   <path d=\"M 0 250.618594 \n",
       "L 251.565 250.618594 \n",
       "L 251.565 0 \n",
       "L 0 0 \n",
       "z\n",
       "\" style=\"fill:none;\"/>\n",
       "  </g>\n",
       "  <g id=\"axes_1\">\n",
       "   <g id=\"patch_2\">\n",
       "    <path d=\"M 26.925 226.740469 \n",
       "L 244.365 226.740469 \n",
       "L 244.365 9.300469 \n",
       "L 26.925 9.300469 \n",
       "z\n",
       "\" style=\"fill:#ffffff;\"/>\n",
       "   </g>\n",
       "   <g clip-path=\"url(#p9aa22f067e)\">\n",
       "    <image height=\"218\" id=\"image14b4f92c3a\" transform=\"scale(1 -1)translate(0 -218)\" width=\"218\" x=\"26.925\" xlink:href=\"data:image/png;base64,\n",
       "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\" y=\"-8.740469\"/>\n",
       "   </g>\n",
       "   <g id=\"matplotlib.axis_1\">\n",
       "    <g id=\"xtick_1\">\n",
       "     <g id=\"line2d_1\">\n",
       "      <defs>\n",
       "       <path d=\"M 0 0 \n",
       "L 0 3.5 \n",
       "\" id=\"mddd71305c6\" style=\"stroke:#000000;stroke-width:0.8;\"/>\n",
       "      </defs>\n",
       "      <g>\n",
       "       <use style=\"stroke:#000000;stroke-width:0.8;\" x=\"28.62375\" xlink:href=\"#mddd71305c6\" y=\"226.740469\"/>\n",
       "      </g>\n",
       "     </g>\n",
       "     <g id=\"text_1\">\n",
       "      <!-- 0 -->\n",
       "      <g transform=\"translate(25.4425 241.338906)scale(0.1 -0.1)\">\n",
       "       <defs>\n",
       "        <path d=\"M 31.78125 66.40625 \n",
       "Q 24.171875 66.40625 20.328125 58.90625 \n",
       "Q 16.5 51.421875 16.5 36.375 \n",
       "Q 16.5 21.390625 20.328125 13.890625 \n",
       "Q 24.171875 6.390625 31.78125 6.390625 \n",
       "Q 39.453125 6.390625 43.28125 13.890625 \n",
       "Q 47.125 21.390625 47.125 36.375 \n",
       "Q 47.125 51.421875 43.28125 58.90625 \n",
       "Q 39.453125 66.40625 31.78125 66.40625 \n",
       "z\n",
       "M 31.78125 74.21875 \n",
       "Q 44.046875 74.21875 50.515625 64.515625 \n",
       "Q 56.984375 54.828125 56.984375 36.375 \n",
       "Q 56.984375 17.96875 50.515625 8.265625 \n",
       "Q 44.046875 -1.421875 31.78125 -1.421875 \n",
       "Q 19.53125 -1.421875 13.0625 8.265625 \n",
       "Q 6.59375 17.96875 6.59375 36.375 \n",
       "Q 6.59375 54.828125 13.0625 64.515625 \n",
       "Q 19.53125 74.21875 31.78125 74.21875 \n",
       "z\n",
       "\" id=\"DejaVuSans-48\"/>\n",
       "       </defs>\n",
       "       <use xlink:href=\"#DejaVuSans-48\"/>\n",
       "      </g>\n",
       "     </g>\n",
       "    </g>\n",
       "    <g id=\"xtick_2\">\n",
       "     <g id=\"line2d_2\">\n",
       "      <g>\n",
       "       <use style=\"stroke:#000000;stroke-width:0.8;\" x=\"62.59875\" xlink:href=\"#mddd71305c6\" y=\"226.740469\"/>\n",
       "      </g>\n",
       "     </g>\n",
       "     <g id=\"text_2\">\n",
       "      <!-- 10 -->\n",
       "      <g transform=\"translate(56.23625 241.338906)scale(0.1 -0.1)\">\n",
       "       <defs>\n",
       "        <path d=\"M 12.40625 8.296875 \n",
       "L 28.515625 8.296875 \n",
       "L 28.515625 63.921875 \n",
       "L 10.984375 60.40625 \n",
       "L 10.984375 69.390625 \n",
       "L 28.421875 72.90625 \n",
       "L 38.28125 72.90625 \n",
       "L 38.28125 8.296875 \n",
       "L 54.390625 8.296875 \n",
       "L 54.390625 0 \n",
       "L 12.40625 0 \n",
       "z\n",
       "\" id=\"DejaVuSans-49\"/>\n",
       "       </defs>\n",
       "       <use xlink:href=\"#DejaVuSans-49\"/>\n",
       "       <use x=\"63.623047\" xlink:href=\"#DejaVuSans-48\"/>\n",
       "      </g>\n",
       "     </g>\n",
       "    </g>\n",
       "    <g id=\"xtick_3\">\n",
       "     <g id=\"line2d_3\">\n",
       "      <g>\n",
       "       <use style=\"stroke:#000000;stroke-width:0.8;\" x=\"96.57375\" xlink:href=\"#mddd71305c6\" y=\"226.740469\"/>\n",
       "      </g>\n",
       "     </g>\n",
       "     <g id=\"text_3\">\n",
       "      <!-- 20 -->\n",
       "      <g transform=\"translate(90.21125 241.338906)scale(0.1 -0.1)\">\n",
       "       <defs>\n",
       "        <path d=\"M 19.1875 8.296875 \n",
       "L 53.609375 8.296875 \n",
       "L 53.609375 0 \n",
       "L 7.328125 0 \n",
       "L 7.328125 8.296875 \n",
       "Q 12.9375 14.109375 22.625 23.890625 \n",
       "Q 32.328125 33.6875 34.8125 36.53125 \n",
       "Q 39.546875 41.84375 41.421875 45.53125 \n",
       "Q 43.3125 49.21875 43.3125 52.78125 \n",
       "Q 43.3125 58.59375 39.234375 62.25 \n",
       "Q 35.15625 65.921875 28.609375 65.921875 \n",
       "Q 23.96875 65.921875 18.8125 64.3125 \n",
       "Q 13.671875 62.703125 7.8125 59.421875 \n",
       "L 7.8125 69.390625 \n",
       "Q 13.765625 71.78125 18.9375 73 \n",
       "Q 24.125 74.21875 28.421875 74.21875 \n",
       "Q 39.75 74.21875 46.484375 68.546875 \n",
       "Q 53.21875 62.890625 53.21875 53.421875 \n",
       "Q 53.21875 48.921875 51.53125 44.890625 \n",
       "Q 49.859375 40.875 45.40625 35.40625 \n",
       "Q 44.1875 33.984375 37.640625 27.21875 \n",
       "Q 31.109375 20.453125 19.1875 8.296875 \n",
       "z\n",
       "\" id=\"DejaVuSans-50\"/>\n",
       "       </defs>\n",
       "       <use xlink:href=\"#DejaVuSans-50\"/>\n",
       "       <use x=\"63.623047\" xlink:href=\"#DejaVuSans-48\"/>\n",
       "      </g>\n",
       "     </g>\n",
       "    </g>\n",
       "    <g id=\"xtick_4\">\n",
       "     <g id=\"line2d_4\">\n",
       "      <g>\n",
       "       <use style=\"stroke:#000000;stroke-width:0.8;\" x=\"130.54875\" xlink:href=\"#mddd71305c6\" y=\"226.740469\"/>\n",
       "      </g>\n",
       "     </g>\n",
       "     <g id=\"text_4\">\n",
       "      <!-- 30 -->\n",
       "      <g transform=\"translate(124.18625 241.338906)scale(0.1 -0.1)\">\n",
       "       <defs>\n",
       "        <path d=\"M 40.578125 39.3125 \n",
       "Q 47.65625 37.796875 51.625 33 \n",
       "Q 55.609375 28.21875 55.609375 21.1875 \n",
       "Q 55.609375 10.40625 48.1875 4.484375 \n",
       "Q 40.765625 -1.421875 27.09375 -1.421875 \n",
       "Q 22.515625 -1.421875 17.65625 -0.515625 \n",
       "Q 12.796875 0.390625 7.625 2.203125 \n",
       "L 7.625 11.71875 \n",
       "Q 11.71875 9.328125 16.59375 8.109375 \n",
       "Q 21.484375 6.890625 26.8125 6.890625 \n",
       "Q 36.078125 6.890625 40.9375 10.546875 \n",
       "Q 45.796875 14.203125 45.796875 21.1875 \n",
       "Q 45.796875 27.640625 41.28125 31.265625 \n",
       "Q 36.765625 34.90625 28.71875 34.90625 \n",
       "L 20.21875 34.90625 \n",
       "L 20.21875 43.015625 \n",
       "L 29.109375 43.015625 \n",
       "Q 36.375 43.015625 40.234375 45.921875 \n",
       "Q 44.09375 48.828125 44.09375 54.296875 \n",
       "Q 44.09375 59.90625 40.109375 62.90625 \n",
       "Q 36.140625 65.921875 28.71875 65.921875 \n",
       "Q 24.65625 65.921875 20.015625 65.03125 \n",
       "Q 15.375 64.15625 9.8125 62.3125 \n",
       "L 9.8125 71.09375 \n",
       "Q 15.4375 72.65625 20.34375 73.4375 \n",
       "Q 25.25 74.21875 29.59375 74.21875 \n",
       "Q 40.828125 74.21875 47.359375 69.109375 \n",
       "Q 53.90625 64.015625 53.90625 55.328125 \n",
       "Q 53.90625 49.265625 50.4375 45.09375 \n",
       "Q 46.96875 40.921875 40.578125 39.3125 \n",
       "z\n",
       "\" id=\"DejaVuSans-51\"/>\n",
       "       </defs>\n",
       "       <use xlink:href=\"#DejaVuSans-51\"/>\n",
       "       <use x=\"63.623047\" xlink:href=\"#DejaVuSans-48\"/>\n",
       "      </g>\n",
       "     </g>\n",
       "    </g>\n",
       "    <g id=\"xtick_5\">\n",
       "     <g id=\"line2d_5\">\n",
       "      <g>\n",
       "       <use style=\"stroke:#000000;stroke-width:0.8;\" x=\"164.52375\" xlink:href=\"#mddd71305c6\" y=\"226.740469\"/>\n",
       "      </g>\n",
       "     </g>\n",
       "     <g id=\"text_5\">\n",
       "      <!-- 40 -->\n",
       "      <g transform=\"translate(158.16125 241.338906)scale(0.1 -0.1)\">\n",
       "       <defs>\n",
       "        <path d=\"M 37.796875 64.3125 \n",
       "L 12.890625 25.390625 \n",
       "L 37.796875 25.390625 \n",
       "z\n",
       "M 35.203125 72.90625 \n",
       "L 47.609375 72.90625 \n",
       "L 47.609375 25.390625 \n",
       "L 58.015625 25.390625 \n",
       "L 58.015625 17.1875 \n",
       "L 47.609375 17.1875 \n",
       "L 47.609375 0 \n",
       "L 37.796875 0 \n",
       "L 37.796875 17.1875 \n",
       "L 4.890625 17.1875 \n",
       "L 4.890625 26.703125 \n",
       "z\n",
       "\" id=\"DejaVuSans-52\"/>\n",
       "       </defs>\n",
       "       <use xlink:href=\"#DejaVuSans-52\"/>\n",
       "       <use x=\"63.623047\" xlink:href=\"#DejaVuSans-48\"/>\n",
       "      </g>\n",
       "     </g>\n",
       "    </g>\n",
       "    <g id=\"xtick_6\">\n",
       "     <g id=\"line2d_6\">\n",
       "      <g>\n",
       "       <use style=\"stroke:#000000;stroke-width:0.8;\" x=\"198.49875\" xlink:href=\"#mddd71305c6\" y=\"226.740469\"/>\n",
       "      </g>\n",
       "     </g>\n",
       "     <g id=\"text_6\">\n",
       "      <!-- 50 -->\n",
       "      <g transform=\"translate(192.13625 241.338906)scale(0.1 -0.1)\">\n",
       "       <defs>\n",
       "        <path d=\"M 10.796875 72.90625 \n",
       "L 49.515625 72.90625 \n",
       "L 49.515625 64.59375 \n",
       "L 19.828125 64.59375 \n",
       "L 19.828125 46.734375 \n",
       "Q 21.96875 47.46875 24.109375 47.828125 \n",
       "Q 26.265625 48.1875 28.421875 48.1875 \n",
       "Q 40.625 48.1875 47.75 41.5 \n",
       "Q 54.890625 34.8125 54.890625 23.390625 \n",
       "Q 54.890625 11.625 47.5625 5.09375 \n",
       "Q 40.234375 -1.421875 26.90625 -1.421875 \n",
       "Q 22.3125 -1.421875 17.546875 -0.640625 \n",
       "Q 12.796875 0.140625 7.71875 1.703125 \n",
       "L 7.71875 11.625 \n",
       "Q 12.109375 9.234375 16.796875 8.0625 \n",
       "Q 21.484375 6.890625 26.703125 6.890625 \n",
       "Q 35.15625 6.890625 40.078125 11.328125 \n",
       "Q 45.015625 15.765625 45.015625 23.390625 \n",
       "Q 45.015625 31 40.078125 35.4375 \n",
       "Q 35.15625 39.890625 26.703125 39.890625 \n",
       "Q 22.75 39.890625 18.8125 39.015625 \n",
       "Q 14.890625 38.140625 10.796875 36.28125 \n",
       "z\n",
       "\" id=\"DejaVuSans-53\"/>\n",
       "       </defs>\n",
       "       <use xlink:href=\"#DejaVuSans-53\"/>\n",
       "       <use x=\"63.623047\" xlink:href=\"#DejaVuSans-48\"/>\n",
       "      </g>\n",
       "     </g>\n",
       "    </g>\n",
       "    <g id=\"xtick_7\">\n",
       "     <g id=\"line2d_7\">\n",
       "      <g>\n",
       "       <use style=\"stroke:#000000;stroke-width:0.8;\" x=\"232.47375\" xlink:href=\"#mddd71305c6\" y=\"226.740469\"/>\n",
       "      </g>\n",
       "     </g>\n",
       "     <g id=\"text_7\">\n",
       "      <!-- 60 -->\n",
       "      <g transform=\"translate(226.11125 241.338906)scale(0.1 -0.1)\">\n",
       "       <defs>\n",
       "        <path d=\"M 33.015625 40.375 \n",
       "Q 26.375 40.375 22.484375 35.828125 \n",
       "Q 18.609375 31.296875 18.609375 23.390625 \n",
       "Q 18.609375 15.53125 22.484375 10.953125 \n",
       "Q 26.375 6.390625 33.015625 6.390625 \n",
       "Q 39.65625 6.390625 43.53125 10.953125 \n",
       "Q 47.40625 15.53125 47.40625 23.390625 \n",
       "Q 47.40625 31.296875 43.53125 35.828125 \n",
       "Q 39.65625 40.375 33.015625 40.375 \n",
       "z\n",
       "M 52.59375 71.296875 \n",
       "L 52.59375 62.3125 \n",
       "Q 48.875 64.0625 45.09375 64.984375 \n",
       "Q 41.3125 65.921875 37.59375 65.921875 \n",
       "Q 27.828125 65.921875 22.671875 59.328125 \n",
       "Q 17.53125 52.734375 16.796875 39.40625 \n",
       "Q 19.671875 43.65625 24.015625 45.921875 \n",
       "Q 28.375 48.1875 33.59375 48.1875 \n",
       "Q 44.578125 48.1875 50.953125 41.515625 \n",
       "Q 57.328125 34.859375 57.328125 23.390625 \n",
       "Q 57.328125 12.15625 50.6875 5.359375 \n",
       "Q 44.046875 -1.421875 33.015625 -1.421875 \n",
       "Q 20.359375 -1.421875 13.671875 8.265625 \n",
       "Q 6.984375 17.96875 6.984375 36.375 \n",
       "Q 6.984375 53.65625 15.1875 63.9375 \n",
       "Q 23.390625 74.21875 37.203125 74.21875 \n",
       "Q 40.921875 74.21875 44.703125 73.484375 \n",
       "Q 48.484375 72.75 52.59375 71.296875 \n",
       "z\n",
       "\" id=\"DejaVuSans-54\"/>\n",
       "       </defs>\n",
       "       <use xlink:href=\"#DejaVuSans-54\"/>\n",
       "       <use x=\"63.623047\" xlink:href=\"#DejaVuSans-48\"/>\n",
       "      </g>\n",
       "     </g>\n",
       "    </g>\n",
       "   </g>\n",
       "   <g id=\"matplotlib.axis_2\">\n",
       "    <g id=\"ytick_1\">\n",
       "     <g id=\"line2d_8\">\n",
       "      <defs>\n",
       "       <path d=\"M 0 0 \n",
       "L -3.5 0 \n",
       "\" id=\"m288f07fd1a\" style=\"stroke:#000000;stroke-width:0.8;\"/>\n",
       "      </defs>\n",
       "      <g>\n",
       "       <use style=\"stroke:#000000;stroke-width:0.8;\" x=\"26.925\" xlink:href=\"#m288f07fd1a\" y=\"10.999219\"/>\n",
       "      </g>\n",
       "     </g>\n",
       "     <g id=\"text_8\">\n",
       "      <!-- 0 -->\n",
       "      <g transform=\"translate(13.5625 14.798437)scale(0.1 -0.1)\">\n",
       "       <use xlink:href=\"#DejaVuSans-48\"/>\n",
       "      </g>\n",
       "     </g>\n",
       "    </g>\n",
       "    <g id=\"ytick_2\">\n",
       "     <g id=\"line2d_9\">\n",
       "      <g>\n",
       "       <use style=\"stroke:#000000;stroke-width:0.8;\" x=\"26.925\" xlink:href=\"#m288f07fd1a\" y=\"44.974219\"/>\n",
       "      </g>\n",
       "     </g>\n",
       "     <g id=\"text_9\">\n",
       "      <!-- 10 -->\n",
       "      <g transform=\"translate(7.2 48.773437)scale(0.1 -0.1)\">\n",
       "       <use xlink:href=\"#DejaVuSans-49\"/>\n",
       "       <use x=\"63.623047\" xlink:href=\"#DejaVuSans-48\"/>\n",
       "      </g>\n",
       "     </g>\n",
       "    </g>\n",
       "    <g id=\"ytick_3\">\n",
       "     <g id=\"line2d_10\">\n",
       "      <g>\n",
       "       <use style=\"stroke:#000000;stroke-width:0.8;\" x=\"26.925\" xlink:href=\"#m288f07fd1a\" y=\"78.949219\"/>\n",
       "      </g>\n",
       "     </g>\n",
       "     <g id=\"text_10\">\n",
       "      <!-- 20 -->\n",
       "      <g transform=\"translate(7.2 82.748437)scale(0.1 -0.1)\">\n",
       "       <use xlink:href=\"#DejaVuSans-50\"/>\n",
       "       <use x=\"63.623047\" xlink:href=\"#DejaVuSans-48\"/>\n",
       "      </g>\n",
       "     </g>\n",
       "    </g>\n",
       "    <g id=\"ytick_4\">\n",
       "     <g id=\"line2d_11\">\n",
       "      <g>\n",
       "       <use style=\"stroke:#000000;stroke-width:0.8;\" x=\"26.925\" xlink:href=\"#m288f07fd1a\" y=\"112.924219\"/>\n",
       "      </g>\n",
       "     </g>\n",
       "     <g id=\"text_11\">\n",
       "      <!-- 30 -->\n",
       "      <g transform=\"translate(7.2 116.723437)scale(0.1 -0.1)\">\n",
       "       <use xlink:href=\"#DejaVuSans-51\"/>\n",
       "       <use x=\"63.623047\" xlink:href=\"#DejaVuSans-48\"/>\n",
       "      </g>\n",
       "     </g>\n",
       "    </g>\n",
       "    <g id=\"ytick_5\">\n",
       "     <g id=\"line2d_12\">\n",
       "      <g>\n",
       "       <use style=\"stroke:#000000;stroke-width:0.8;\" x=\"26.925\" xlink:href=\"#m288f07fd1a\" y=\"146.899219\"/>\n",
       "      </g>\n",
       "     </g>\n",
       "     <g id=\"text_12\">\n",
       "      <!-- 40 -->\n",
       "      <g transform=\"translate(7.2 150.698437)scale(0.1 -0.1)\">\n",
       "       <use xlink:href=\"#DejaVuSans-52\"/>\n",
       "       <use x=\"63.623047\" xlink:href=\"#DejaVuSans-48\"/>\n",
       "      </g>\n",
       "     </g>\n",
       "    </g>\n",
       "    <g id=\"ytick_6\">\n",
       "     <g id=\"line2d_13\">\n",
       "      <g>\n",
       "       <use style=\"stroke:#000000;stroke-width:0.8;\" x=\"26.925\" xlink:href=\"#m288f07fd1a\" y=\"180.874219\"/>\n",
       "      </g>\n",
       "     </g>\n",
       "     <g id=\"text_13\">\n",
       "      <!-- 50 -->\n",
       "      <g transform=\"translate(7.2 184.673437)scale(0.1 -0.1)\">\n",
       "       <use xlink:href=\"#DejaVuSans-53\"/>\n",
       "       <use x=\"63.623047\" xlink:href=\"#DejaVuSans-48\"/>\n",
       "      </g>\n",
       "     </g>\n",
       "    </g>\n",
       "    <g id=\"ytick_7\">\n",
       "     <g id=\"line2d_14\">\n",
       "      <g>\n",
       "       <use style=\"stroke:#000000;stroke-width:0.8;\" x=\"26.925\" xlink:href=\"#m288f07fd1a\" y=\"214.849219\"/>\n",
       "      </g>\n",
       "     </g>\n",
       "     <g id=\"text_14\">\n",
       "      <!-- 60 -->\n",
       "      <g transform=\"translate(7.2 218.648437)scale(0.1 -0.1)\">\n",
       "       <use xlink:href=\"#DejaVuSans-54\"/>\n",
       "       <use x=\"63.623047\" xlink:href=\"#DejaVuSans-48\"/>\n",
       "      </g>\n",
       "     </g>\n",
       "    </g>\n",
       "   </g>\n",
       "   <g id=\"patch_3\">\n",
       "    <path d=\"M 26.925 226.740469 \n",
       "L 26.925 9.300469 \n",
       "\" style=\"fill:none;stroke:#000000;stroke-linecap:square;stroke-linejoin:miter;stroke-width:0.8;\"/>\n",
       "   </g>\n",
       "   <g id=\"patch_4\">\n",
       "    <path d=\"M 244.365 226.740469 \n",
       "L 244.365 9.300469 \n",
       "\" style=\"fill:none;stroke:#000000;stroke-linecap:square;stroke-linejoin:miter;stroke-width:0.8;\"/>\n",
       "   </g>\n",
       "   <g id=\"patch_5\">\n",
       "    <path d=\"M 26.925 226.740469 \n",
       "L 244.365 226.740469 \n",
       "\" style=\"fill:none;stroke:#000000;stroke-linecap:square;stroke-linejoin:miter;stroke-width:0.8;\"/>\n",
       "   </g>\n",
       "   <g id=\"patch_6\">\n",
       "    <path d=\"M 26.925 9.300469 \n",
       "L 244.365 9.300469 \n",
       "\" style=\"fill:none;stroke:#000000;stroke-linecap:square;stroke-linejoin:miter;stroke-width:0.8;\"/>\n",
       "   </g>\n",
       "  </g>\n",
       " </g>\n",
       " <defs>\n",
       "  <clipPath id=\"p9aa22f067e\">\n",
       "   <rect height=\"217.44\" width=\"217.44\" x=\"26.925\" y=\"9.300469\"/>\n",
       "  </clipPath>\n",
       " </defs>\n",
       "</svg>\n"
      ],
      "text/plain": [
       "<Figure size 432x288 with 1 Axes>"
      ]
     },
     "metadata": {
      "needs_background": "light"
     },
     "output_type": "display_data"
    }
   ],
   "source": [
    "sample = 0\n",
    "# video_ = video[sample,-recon_transformer.shape[1]:]\n",
    "# recon_ = recon_transformer[sample,-recon_transformer.shape[1]:]\n",
    "video_ = video[sample,:13]\n",
    "recon_ = seen_sofar[sample]\n",
    "for i in range(1):\n",
    "    print (\"Time Step : %d\"%i)\n",
    "    print (video_.shape,recon_.shape)\n",
    "    plt.imshow(video_[i].detach().cpu().numpy().transpose(1,2,0))\n",
    "    plt.show()\n",
    "    plt.imshow(recon_[i].detach().cpu().numpy().transpose(1,2,0))\n",
    "    plt.show()\n",
    "    "
   ]
  },
  {
   "cell_type": "code",
   "execution_count": 19,
   "id": "454ca3e6",
   "metadata": {
    "scrolled": false
   },
   "outputs": [],
   "source": [
    "image = video[:,:3].clone()\n",
    "gen_len = (image.size(-1) // 4) ** 2\n",
    "\n",
    "B,T, C, H, W = image.size()\n",
    "\n",
    "# dvae encode\n",
    "z_logits = F.log_softmax(model.dvae.encoder(image.flatten(end_dim=1)), dim=1)  # batch_size x vocab_size x 4 x 4\n",
    "_, _, H_enc, W_enc = z_logits.size()\n",
    "\n",
    "# hard z\n",
    "z_hard = torch.argmax(z_logits, axis=1)\n",
    "z_hard = F.one_hot(z_hard, num_classes=model.vocab_size).permute(0, 3, 1, 2).float()  # batch_size x vocab_size x 4 x 4\n",
    "\n",
    "# target for transformer\n",
    "one_hot_tokens = z_hard.permute(0, 2, 3, 1).flatten(start_dim=1, end_dim=2)  # batch_size x 16 x vocab_size\n",
    "\n",
    "# inputs for transformer with bos\n",
    "token_embeddings = torch.cat([torch.zeros_like(one_hot_tokens[..., :1]), one_hot_tokens], dim=-1)  # batch_size x 16 x 1+vocab_size\n",
    "token_embeddings = torch.cat([torch.zeros_like(token_embeddings[..., :1, :]), token_embeddings], dim=-2)  # batch_size x 1+16 x 1+vocab_size\n",
    "token_embeddings[:, 0, 0] = 1.0  # set bos # batch_size x 1+16 x vocab_size+1\n",
    "token_embeddings = model.dictionary(token_embeddings)  # batch_size x 16 x d_model\n",
    "token_embeddings = model.positional_encoder(token_embeddings)\n",
    "\n",
    "z_transformer_input = z_hard.new_zeros(B*(T-model.warmup), 1, model.vocab_size + 1)\n",
    "z_transformer_input[..., 0] = 1.0  # batch_size x 1 x vocab_size+1\n",
    "\n",
    "# slot attention\n",
    "slots, attns = model.slot_attn(token_embeddings[:, 1:])\n",
    "attns = attns.transpose(-1, -2)\n",
    "attns = attns.reshape(B*T, model.num_slots, 1, H_enc, W_enc).repeat_interleave(H // H_enc, dim=-2).repeat_interleave(W // W_enc, dim=-1)\n",
    "# `attns` has shape: [batch_size, num_slots, 1, enc_height, enc_width].\n",
    "# attns = image.unsqueeze(1) * attns\n",
    "attns = image.flatten(end_dim=1).unsqueeze(1) * attns + 1. - attns"
   ]
  },
  {
   "cell_type": "code",
   "execution_count": 32,
   "id": "d799e9ff",
   "metadata": {
    "scrolled": true
   },
   "outputs": [
    {
     "name": "stdout",
     "output_type": "stream",
     "text": [
      "tensor([[-0.5208,  6.7857, 17.8511,  7.2691],\n",
      "        [ 5.1377, -4.0834,  5.5893, 22.6458],\n",
      "        [ 1.0432, 19.5843,  7.3351, -3.1963],\n",
      "        [20.0423,  1.9806, -0.6930,  6.7730]], device='cuda:0',\n",
      "       grad_fn=<MmBackward>)\n"
     ]
    }
   ],
   "source": [
    "for i in range(1):\n",
    "    print (slots[i]@slots[i+1].T)"
   ]
  },
  {
   "cell_type": "code",
   "execution_count": 39,
   "id": "d5a77733",
   "metadata": {},
   "outputs": [
    {
     "name": "stdout",
     "output_type": "stream",
     "text": [
      "tensor(20.0423, device='cuda:0', grad_fn=<SumBackward0>)\n"
     ]
    },
    {
     "data": {
      "text/plain": [
       "[<matplotlib.lines.Line2D at 0x7fb491a2dbb0>]"
      ]
     },
     "execution_count": 39,
     "metadata": {},
     "output_type": "execute_result"
    },
    {
     "data": {
      "image/png": "[encoded data removed]",
      "text/plain": [
       "<Figure size 432x288 with 1 Axes>"
      ]
     },
     "metadata": {
      "needs_background": "light"
     },
     "output_type": "display_data"
    }
   ],
   "source": [
    "print((slots[0,3]*slots[1,0]).sum())\n",
    "plt.plot((slots[0,3]-slots[1,0]).detach().cpu().numpy())\n",
    "plt.plot((slots[0,3]-slots[1,3]).detach().cpu().numpy())"
   ]
  },
  {
   "cell_type": "code",
   "execution_count": 28,
   "id": "369e80aa",
   "metadata": {},
   "outputs": [
    {
     "data": {
      "text/plain": [
       "(3, 64, 64)"
      ]
     },
     "execution_count": 28,
     "metadata": {},
     "output_type": "execute_result"
    }
   ],
   "source": [
    "attns[0,0].detach().cpu().numpy().shape"
   ]
  },
  {
   "cell_type": "code",
   "execution_count": 33,
   "id": "50fb1e1c",
   "metadata": {
    "scrolled": false
   },
   "outputs": [
    {
     "data": {
      "image/png": "[encoded data removed]",
      "text/plain": [
       "<Figure size 432x288 with 1 Axes>"
      ]
     },
     "metadata": {
      "needs_background": "light"
     },
     "output_type": "display_data"
    },
    {
     "data": {
      "image/png": "[encoded data removed]",
      "text/plain": [
       "<Figure size 432x288 with 1 Axes>"
      ]
     },
     "metadata": {
      "needs_background": "light"
     },
     "output_type": "display_data"
    },
    {
     "data": {
      "image/png": "[encoded data removed]",
      "text/plain": [
       "<Figure size 432x288 with 1 Axes>"
      ]
     },
     "metadata": {
      "needs_background": "light"
     },
     "output_type": "display_data"
    },
    {
     "data": {
      "image/png": "[encoded data removed]",
      "text/plain": [
       "<Figure size 432x288 with 1 Axes>"
      ]
     },
     "metadata": {
      "needs_background": "light"
     },
     "output_type": "display_data"
    },
    {
     "data": {
      "image/png": "[encoded data removed]",
      "text/plain": [
       "<Figure size 432x288 with 1 Axes>"
      ]
     },
     "metadata": {
      "needs_background": "light"
     },
     "output_type": "display_data"
    },
    {
     "data": {
      "image/png": "[encoded data removed]",
      "text/plain": [
       "<Figure size 432x288 with 1 Axes>"
      ]
     },
     "metadata": {
      "needs_background": "light"
     },
     "output_type": "display_data"
    },
    {
     "data": {
      "image/png": "[encoded data removed]",
      "text/plain": [
       "<Figure size 432x288 with 1 Axes>"
      ]
     },
     "metadata": {
      "needs_background": "light"
     },
     "output_type": "display_data"
    },
    {
     "data": {
      "image/png": "[encoded data removed]",
      "text/plain": [
       "<Figure size 432x288 with 1 Axes>"
      ]
     },
     "metadata": {
      "needs_background": "light"
     },
     "output_type": "display_data"
    }
   ],
   "source": [
    "plt.imshow(attns[0,0].detach().cpu().numpy().transpose(1,2,0))\n",
    "plt.show()\n",
    "plt.imshow(attns[0,1].detach().cpu().numpy().transpose(1,2,0))\n",
    "plt.show()\n",
    "plt.imshow(attns[0,2].detach().cpu().numpy().transpose(1,2,0))\n",
    "plt.show()\n",
    "plt.imshow(attns[0,3].detach().cpu().numpy().transpose(1,2,0))\n",
    "plt.show()\n",
    "plt.imshow(attns[1,0].detach().cpu().numpy().transpose(1,2,0))\n",
    "plt.show()\n",
    "plt.imshow(attns[1,1].detach().cpu().numpy().transpose(1,2,0))\n",
    "plt.show()\n",
    "plt.imshow(attns[1,2].detach().cpu().numpy().transpose(1,2,0))\n",
    "plt.show()\n",
    "plt.imshow(attns[1,3].detach().cpu().numpy().transpose(1,2,0))\n",
    "plt.show()\n"
   ]
  }
 ],
 "metadata": {
  "kernelspec": {
   "display_name": "Python 3",
   "language": "python",
   "name": "python3"
  },
  "language_info": {
   "codemirror_mode": {
    "name": "ipython",
    "version": 3
   },
   "file_extension": ".py",
   "mimetype": "text/x-python",
   "name": "python",
   "nbconvert_exporter": "python",
   "pygments_lexer": "ipython3",
   "version": "3.8.10"
  }
 },
 "nbformat": 4,
 "nbformat_minor": 5
}
